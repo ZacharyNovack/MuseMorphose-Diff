{
 "cells": [
  {
   "cell_type": "code",
   "execution_count": 1,
   "metadata": {},
   "outputs": [],
   "source": [
    "from dataloader import REMIFullSongTransformerDataset, MSREMIFullSongTransformerDataset\n",
    "import yaml\n",
    "from utils import pickle_load\n",
    "from glob import glob\n",
    "import os"
   ]
  },
  {
   "cell_type": "code",
   "execution_count": 2,
   "metadata": {},
   "outputs": [],
   "source": [
    "config = yaml.load(open('config/default2.yaml', 'r'), Loader=yaml.FullLoader)"
   ]
  },
  {
   "cell_type": "code",
   "execution_count": 3,
   "metadata": {},
   "outputs": [
    {
     "name": "stdout",
     "output_type": "stream",
     "text": [
      "[preparing data] now at #0\n",
      "[preparing data] now at #200\n",
      "[preparing data] now at #400\n",
      "[preparing data] now at #600\n",
      "[preparing data] now at #800\n",
      "[preparing data] now at #1000\n",
      "[preparing data] now at #1200\n",
      "[preparing data] now at #1400\n",
      "[preparing data] now at #1600\n",
      "[preparing data] now at #1800\n",
      "[preparing data] now at #2000\n",
      "[preparing data] now at #2200\n",
      "[preparing data] now at #2400\n",
      "[preparing data] now at #2600\n",
      "[preparing data] now at #2800\n",
      "[preparing data] now at #3000\n",
      "[preparing data] now at #3200\n",
      "[preparing data] now at #3400\n",
      "[preparing data] now at #3600\n",
      "[preparing data] now at #3800\n",
      "[preparing data] now at #4000\n",
      "[preparing data] now at #4200\n",
      "[preparing data] now at #4400\n",
      "[preparing data] now at #4600\n",
      "[preparing data] now at #4800\n",
      "[preparing data] now at #5000\n",
      "[preparing data] now at #5200\n",
      "[preparing data] now at #5400\n",
      "[preparing data] now at #5600\n",
      "[preparing data] now at #5800\n",
      "[preparing data] now at #6000\n",
      "[preparing data] now at #6200\n",
      "[preparing data] now at #6400\n",
      "[preparing data] now at #6600\n",
      "[preparing data] now at #6800\n",
      "[preparing data] now at #7000\n",
      "[preparing data] now at #7200\n",
      "[preparing data] now at #7400\n",
      "[preparing data] now at #7600\n"
     ]
    }
   ],
   "source": [
    "dset = MSREMIFullSongTransformerDataset(\n",
    "    config['data']['data_dir'], config['data']['vocab_path'], \n",
    "    do_augment=False, \n",
    "    model_enc_seqlen=config['data']['enc_seqlen'], \n",
    "    model_dec_seqlen=config['data']['dec_seqlen'], \n",
    "    model_max_bars=config['data']['max_bars'],\n",
    "    pieces=False,\n",
    "    pad_to_same=True\n",
    "  )"
   ]
  },
  {
   "cell_type": "code",
   "execution_count": 13,
   "metadata": {},
   "outputs": [],
   "source": [
    "import pickle as pk\n",
    "\n",
    "with open(\"pickles/msremi_vocab.pkl\", 'rb') as f:\n",
    "    vocab = pk.load(f)"
   ]
  },
  {
   "cell_type": "code",
   "execution_count": null,
   "metadata": {},
   "outputs": [],
   "source": []
  }
 ],
 "metadata": {
  "kernelspec": {
   "display_name": "Python 3.9.13 ('music')",
   "language": "python",
   "name": "python3"
  },
  "language_info": {
   "codemirror_mode": {
    "name": "ipython",
    "version": 3
   },
   "file_extension": ".py",
   "mimetype": "text/x-python",
   "name": "python",
   "nbconvert_exporter": "python",
   "pygments_lexer": "ipython3",
   "version": "3.9.16 (main, Jan 11 2023, 16:05:54) \n[GCC 11.2.0]"
  },
  "orig_nbformat": 4,
  "vscode": {
   "interpreter": {
    "hash": "9af94f28876c9d3667e32c3f57cf369bad4902fd5c407457529a66e9442bcdc6"
   }
  }
 },
 "nbformat": 4,
 "nbformat_minor": 2
}
